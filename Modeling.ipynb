{
 "cells": [
  {
   "cell_type": "code",
   "execution_count": 1,
   "metadata": {},
   "outputs": [],
   "source": [
    "import joblib\n",
    "import random\n",
    "import pandas as pd\n",
    "\n",
    "# import nltk\n",
    "# nltk.download('punkt')\n",
    "# nltk.download('wordnet')\n",
    "# nltk.download('stopwords')\n",
    "# nltk.download('averaged_perceptron_tagger')\n",
    "\n",
    "from sklearn.preprocessing import LabelEncoder\n",
    "from sklearn.tree import DecisionTreeClassifier\n",
    "from sklearn.feature_extraction.text import CountVectorizer\n",
    "\n",
    "import warnings\n",
    "warnings.filterwarnings('ignore')\n",
    "\n",
    "from helpers.preprocessing import PreProcessing"
   ]
  },
  {
   "cell_type": "markdown",
   "metadata": {},
   "source": [
    "## Proprocessing and Save Vectorizer"
   ]
  },
  {
   "cell_type": "code",
   "execution_count": null,
   "metadata": {},
   "outputs": [],
   "source": [
    "data = pd.read_excel(\"data/symp.xlsx\")\n",
    "symptoms = data['q_11'].to_numpy()\n",
    "\n",
    "processing = PreProcessing()\n",
    "symptoms_preprocess = processing.transform(symptoms)\n",
    "symptoms_preprocess"
   ]
  },
  {
   "cell_type": "code",
   "execution_count": 33,
   "metadata": {},
   "outputs": [
    {
     "data": {
      "text/plain": [
       "['modeling/vectorizer.save']"
      ]
     },
     "execution_count": 33,
     "metadata": {},
     "output_type": "execute_result"
    }
   ],
   "source": [
    "vectorizer = CountVectorizer(\n",
    "    max_df=len(symptoms_preprocess), \n",
    "    min_df=0,\n",
    "    decode_error='ignore',\n",
    "    binary=True\n",
    ")\n",
    "\n",
    "data_vectorizer = pd.DataFrame(\n",
    "    vectorizer.fit_transform(symptoms_preprocess).toarray(), \n",
    "    columns=vectorizer.get_feature_names_out()\n",
    ")\n",
    "# buat random, karena datanya tidak ada\n",
    "disorder = ['Bipolar', 'Non Bipolar']\n",
    "data_vectorizer['disorder'] =  random.choices(disorder, k=data_vectorizer.shape[0])\n",
    "\n",
    "\n",
    "data_vectorizer.to_csv('data/data_vectorizer.csv', index=False)\n",
    "joblib.dump(vectorizer, 'modeling/vectorizer.save') "
   ]
  },
  {
   "cell_type": "markdown",
   "metadata": {},
   "source": [
    "## Make Simple Model"
   ]
  },
  {
   "cell_type": "code",
   "execution_count": 58,
   "metadata": {},
   "outputs": [
    {
     "data": {
      "text/plain": [
       "DecisionTreeClassifier(random_state=50)"
      ]
     },
     "execution_count": 58,
     "metadata": {},
     "output_type": "execute_result"
    }
   ],
   "source": [
    "data = pd.read_csv('data/data_vectorizer.csv')\n",
    "\n",
    "target_column = 'disorder'\n",
    "X = data.drop(target_column, axis=1).to_numpy()\n",
    "\n",
    "label_encoder = LabelEncoder()\n",
    "y = label_encoder.fit_transform(data[target_column])\n",
    "\n",
    "\n",
    "model = DecisionTreeClassifier(random_state = 50, criterion = \"gini\")\n",
    "model.fit(X, y)"
   ]
  },
  {
   "cell_type": "code",
   "execution_count": 57,
   "metadata": {},
   "outputs": [
    {
     "data": {
      "text/plain": [
       "array(['Bipolar', 'Non Bipolar'], dtype=object)"
      ]
     },
     "execution_count": 57,
     "metadata": {},
     "output_type": "execute_result"
    }
   ],
   "source": [
    "# try to predict\n",
    "prediction = model.predict(X[0:2])\n",
    "label_encoder.inverse_transform(prediction)"
   ]
  },
  {
   "cell_type": "code",
   "execution_count": 59,
   "metadata": {},
   "outputs": [
    {
     "data": {
      "text/plain": [
       "['modeling/decision_tree_model.pkl']"
      ]
     },
     "execution_count": 59,
     "metadata": {},
     "output_type": "execute_result"
    }
   ],
   "source": [
    "# save model dan encoder\n",
    "joblib.dump(label_encoder, \"modeling/label_encoder.save\")\n",
    "joblib.dump(model, 'modeling/decision_tree_model.pkl')"
   ]
  },
  {
   "cell_type": "markdown",
   "metadata": {},
   "source": [
    "## Try to Predict New Data"
   ]
  },
  {
   "cell_type": "code",
   "execution_count": 2,
   "metadata": {},
   "outputs": [
    {
     "name": "stderr",
     "output_type": "stream",
     "text": [
      "b'Skipping line 8: expected 46 fields, saw 56\\n'\n",
      "b'Skipping line 8: expected 25 fields, saw 29\\n'\n",
      "Building prefix dict from the default dictionary ...\n",
      "Loading model from cache C:\\Users\\ASUS\\AppData\\Local\\Temp\\jieba.cache\n",
      "Loading model cost 0.839 seconds.\n",
      "Prefix dict has been built successfully.\n"
     ]
    },
    {
     "data": {
      "text/plain": [
       "'Bipolar'"
      ]
     },
     "execution_count": 2,
     "metadata": {},
     "output_type": "execute_result"
    }
   ],
   "source": [
    "symptoms = \"I feel very anxious, sometimes I want to suicide\"\n",
    "\n",
    "vectorizer = joblib.load('modeling/vectorizer.save')\n",
    "label_encoder = joblib.load('modeling/label_encoder.save')\n",
    "model = joblib.load('modeling/decision_tree_model.pkl')\n",
    "\n",
    "preprocessing = PreProcessing()\n",
    "symptoms_preprocess = preprocessing.transform(symptoms)\n",
    "\n",
    "X = vectorizer.transform([symptoms_preprocess]).toarray()\n",
    "prediction = model.predict(X)\n",
    "prediction = label_encoder.inverse_transform(prediction)[0]\n",
    "prediction"
   ]
  }
 ],
 "metadata": {
  "interpreter": {
   "hash": "1a96b9fde85eae18f328e26a2214f5533e885c6cdd021089c2c5b6c440d89605"
  },
  "kernelspec": {
   "display_name": "Python 3.9.10 ('metamorphosis-modeling')",
   "language": "python",
   "name": "python3"
  },
  "language_info": {
   "codemirror_mode": {
    "name": "ipython",
    "version": 3
   },
   "file_extension": ".py",
   "mimetype": "text/x-python",
   "name": "python",
   "nbconvert_exporter": "python",
   "pygments_lexer": "ipython3",
   "version": "3.9.10"
  },
  "orig_nbformat": 4
 },
 "nbformat": 4,
 "nbformat_minor": 2
}
